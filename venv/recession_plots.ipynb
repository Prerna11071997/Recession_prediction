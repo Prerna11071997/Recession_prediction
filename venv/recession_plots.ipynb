{
 "cells": [
  {
   "cell_type": "raw",
   "metadata": {
    "collapsed": true,
    "deletable": true,
    "editable": true
   },
   "source": []
  },
  {
   "cell_type": "code",
   "execution_count": null,
   "metadata": {
    "collapsed": false,
    "deletable": true,
    "editable": true
   },
   "outputs": [],
   "source": []
  },
  {
   "cell_type": "code",
   "execution_count": 12,
   "metadata": {
    "collapsed": false,
    "deletable": true,
    "editable": true
   },
   "outputs": [
    {
     "name": "stdout",
     "output_type": "stream",
     "text": [
      "   Unnamed: 0        DATE  SP500 (Percent change from a year ago)  \\\n",
      "0           0  01-01-1963                               -0.058057   \n",
      "1           1  01-02-1963                               -0.061236   \n",
      "2           2  01-03-1963                               -0.065728   \n",
      "3           3  01-04-1963                                0.010434   \n",
      "4           4  01-05-1963                                0.113510   \n",
      "\n",
      "   10Y Rate - 3M TBill  10Y Rate (Percent change from a year ago  \\\n",
      "0                 0.92                                  -6.12745   \n",
      "1                 1.00                                  -3.69458   \n",
      "2                 1.04                                  -0.25381   \n",
      "3                 1.07                                   3.38542   \n",
      "4                 1.00                                   1.55039   \n",
      "\n",
      "   3M TBill (Percent Change from a year ago)  3M TBill - FF  6M TBill - FF  \\\n",
      "0                                    6.98529          -0.01           0.04   \n",
      "1                                    6.95971          -0.08          -0.02   \n",
      "2                                    6.25000          -0.09          -0.03   \n",
      "3                                    6.22711           0.00           0.08   \n",
      "4                                    8.92193          -0.07           0.01   \n",
      "\n",
      "   1Y Rate - FF  5Y Rate - FF  10Y Rate - FF  Composite Leading Indicator  \\\n",
      "0          0.15          0.69           0.94                      99.9314   \n",
      "1          0.01          0.66           0.92                     100.0743   \n",
      "2          0.05          0.71           0.95                     100.1901   \n",
      "3          0.25          0.87           1.10                     100.2720   \n",
      "4          0.12          0.72           0.93                     100.3078   \n",
      "\n",
      "   Recession State  \n",
      "0                0  \n",
      "1                0  \n",
      "2                0  \n",
      "3                0  \n",
      "4                0  \n"
     ]
    }
   ],
   "source": [
    "import matplotlib.pyplot as plt\n",
    "import pandas as pd\n",
    "\n",
    "base = pd.read_csv(\"base.csv\")\n",
    "print(base.head())"
   ]
  },
  {
   "cell_type": "code",
   "execution_count": 13,
   "metadata": {
    "collapsed": false,
    "deletable": true,
    "editable": true
   },
   "outputs": [
    {
     "data": {
      "text/plain": [
       "<matplotlib.text.Text at 0x138ee77ad68>"
      ]
     },
     "execution_count": 13,
     "metadata": {},
     "output_type": "execute_result"
    },
    {
     "data": {
      "image/png": "[encoded data removed]",
      "text/plain": [
       "<matplotlib.figure.Figure at 0x138ee75fc18>"
      ]
     },
     "metadata": {},
     "output_type": "display_data"
    }
   ],
   "source": [
    "fig, ax = plt.subplots()\n",
    "# plot histogram\n",
    "ax.hist(base['SP500 (Percent change from a year ago)'])\n",
    "# set title and labels\n",
    "ax.set_title('SP500 (Percent change from a year ago)')\n",
    "ax.set_xlabel('Points')\n",
    "ax.set_ylabel('Frequency')"
   ]
  },
  {
   "cell_type": "code",
   "execution_count": 14,
   "metadata": {
    "collapsed": false,
    "deletable": true,
    "editable": true
   },
   "outputs": [
    {
     "data": {
      "text/plain": [
       "<matplotlib.text.Text at 0x138ee891a20>"
      ]
     },
     "execution_count": 14,
     "metadata": {},
     "output_type": "execute_result"
    },
    {
     "data": {
      "image/png": "[encoded data removed]",
      "text/plain": [
       "<matplotlib.figure.Figure at 0x138ee8889e8>"
      ]
     },
     "metadata": {},
     "output_type": "display_data"
    }
   ],
   "source": [
    "fig, ax = plt.subplots()\n",
    "# plot histogram\n",
    "ax.hist(base['10Y Rate - 3M TBill'])\n",
    "# set title and labels\n",
    "ax.set_title('10Y Rate - 3M TBill')\n",
    "ax.set_xlabel('Points')\n",
    "ax.set_ylabel('Frequency')"
   ]
  },
  {
   "cell_type": "code",
   "execution_count": 15,
   "metadata": {
    "collapsed": false,
    "deletable": true,
    "editable": true
   },
   "outputs": [
    {
     "data": {
      "text/plain": [
       "<matplotlib.text.Text at 0x138ee8948d0>"
      ]
     },
     "execution_count": 15,
     "metadata": {},
     "output_type": "execute_result"
    },
    {
     "data": {
      "image/png": "[encoded data removed]",
      "text/plain": [
       "<matplotlib.figure.Figure at 0x138ee87e358>"
      ]
     },
     "metadata": {},
     "output_type": "display_data"
    }
   ],
   "source": [
    "fig, ax = plt.subplots()\n",
    "# plot histogram\n",
    "ax.hist(base['10Y Rate (Percent change from a year ago'])\n",
    "# set title and labels\n",
    "ax.set_title('10Y Rate (Percent change from a year ago')\n",
    "ax.set_xlabel('Points')\n",
    "ax.set_ylabel('Frequency')"
   ]
  },
  {
   "cell_type": "code",
   "execution_count": 16,
   "metadata": {
    "collapsed": false,
    "deletable": true,
    "editable": true
   },
   "outputs": [
    {
     "data": {
      "text/plain": [
       "<matplotlib.text.Text at 0x138ee91dcc0>"
      ]
     },
     "execution_count": 16,
     "metadata": {},
     "output_type": "execute_result"
    },
    {
     "data": {
      "image/png": "[encoded data removed]",
      "text/plain": [
       "<matplotlib.figure.Figure at 0x138ee9a1fd0>"
      ]
     },
     "metadata": {},
     "output_type": "display_data"
    }
   ],
   "source": [
    "fig, ax = plt.subplots()\n",
    "# plot histogram\n",
    "ax.hist(base['3M TBill (Percent Change from a year ago)'])\n",
    "# set title and labels\n",
    "ax.set_title('3M TBill (Percent Change from a year ago)')\n",
    "ax.set_xlabel('Points')\n",
    "ax.set_ylabel('Frequency')"
   ]
  },
  {
   "cell_type": "code",
   "execution_count": 17,
   "metadata": {
    "collapsed": false,
    "deletable": true,
    "editable": true
   },
   "outputs": [
    {
     "data": {
      "text/plain": [
       "<matplotlib.text.Text at 0x138ee99e860>"
      ]
     },
     "execution_count": 17,
     "metadata": {},
     "output_type": "execute_result"
    },
    {
     "data": {
      "image/png": "[encoded data removed]",
      "text/plain": [
       "<matplotlib.figure.Figure at 0x138ee888438>"
      ]
     },
     "metadata": {},
     "output_type": "display_data"
    }
   ],
   "source": [
    "fig, ax = plt.subplots()\n",
    "# plot histogram\n",
    "ax.hist(base['3M TBill - FF'])\n",
    "# set title and labels\n",
    "ax.set_title('3M TBill - FF')\n",
    "ax.set_xlabel('Points')\n",
    "ax.set_ylabel('Frequency')"
   ]
  },
  {
   "cell_type": "code",
   "execution_count": 18,
   "metadata": {
    "collapsed": false,
    "deletable": true,
    "editable": true
   },
   "outputs": [
    {
     "data": {
      "text/plain": [
       "<matplotlib.text.Text at 0x138efa6e940>"
      ]
     },
     "execution_count": 18,
     "metadata": {},
     "output_type": "execute_result"
    },
    {
     "data": {
      "image/png": "[encoded data removed]",
      "text/plain": [
       "<matplotlib.figure.Figure at 0x138efa7a710>"
      ]
     },
     "metadata": {},
     "output_type": "display_data"
    }
   ],
   "source": [
    "fig, ax = plt.subplots()\n",
    "# plot histogram\n",
    "ax.hist(base['6M TBill - FF'])\n",
    "# set title and labels\n",
    "ax.set_title('6M TBill - FF')\n",
    "ax.set_xlabel('Points')\n",
    "ax.set_ylabel('Frequency')"
   ]
  },
  {
   "cell_type": "code",
   "execution_count": 19,
   "metadata": {
    "collapsed": false,
    "deletable": true,
    "editable": true
   },
   "outputs": [
    {
     "data": {
      "text/plain": [
       "<matplotlib.text.Text at 0x138ee411710>"
      ]
     },
     "execution_count": 19,
     "metadata": {},
     "output_type": "execute_result"
    },
    {
     "data": {
      "image/png": "[encoded data removed]",
      "text/plain": [
       "<matplotlib.figure.Figure at 0x138efb0cf98>"
      ]
     },
     "metadata": {},
     "output_type": "display_data"
    }
   ],
   "source": [
    "fig, ax = plt.subplots()\n",
    "# plot histogram\n",
    "ax.hist(base['1Y Rate - FF'])\n",
    "# set title and labels\n",
    "ax.set_title('1Y Rate - FF')\n",
    "ax.set_xlabel('Points')\n",
    "ax.set_ylabel('Frequency')"
   ]
  },
  {
   "cell_type": "code",
   "execution_count": 20,
   "metadata": {
    "collapsed": false,
    "deletable": true,
    "editable": true
   },
   "outputs": [
    {
     "data": {
      "text/plain": [
       "<matplotlib.text.Text at 0x138efb159e8>"
      ]
     },
     "execution_count": 20,
     "metadata": {},
     "output_type": "execute_result"
    },
    {
     "data": {
      "image/png": "[encoded data removed]",
      "text/plain": [
       "<matplotlib.figure.Figure at 0x138ee58f780>"
      ]
     },
     "metadata": {},
     "output_type": "display_data"
    }
   ],
   "source": [
    "fig, ax = plt.subplots()\n",
    "# plot histogram\n",
    "ax.hist(base['5Y Rate - FF'])\n",
    "# set title and labels\n",
    "ax.set_title('5Y Rate - FF')\n",
    "ax.set_xlabel('Points')\n",
    "ax.set_ylabel('Frequency')"
   ]
  },
  {
   "cell_type": "code",
   "execution_count": 21,
   "metadata": {
    "collapsed": false,
    "deletable": true,
    "editable": true
   },
   "outputs": [
    {
     "data": {
      "text/plain": [
       "<matplotlib.text.Text at 0x138ef9f3b70>"
      ]
     },
     "execution_count": 21,
     "metadata": {},
     "output_type": "execute_result"
    },
    {
     "data": {
      "image/png": "[encoded data removed]",
      "text/plain": [
       "<matplotlib.figure.Figure at 0x138efb7af28>"
      ]
     },
     "metadata": {},
     "output_type": "display_data"
    }
   ],
   "source": [
    "fig, ax = plt.subplots()\n",
    "# plot histogram\n",
    "ax.hist(base['10Y Rate - FF'])\n",
    "# set title and labels\n",
    "ax.set_title('10Y Rate - FF')\n",
    "ax.set_xlabel('Points')\n",
    "ax.set_ylabel('Frequency')"
   ]
  },
  {
   "cell_type": "code",
   "execution_count": 22,
   "metadata": {
    "collapsed": false,
    "deletable": true,
    "editable": true
   },
   "outputs": [
    {
     "data": {
      "text/plain": [
       "<matplotlib.text.Text at 0x138efb800f0>"
      ]
     },
     "execution_count": 22,
     "metadata": {},
     "output_type": "execute_result"
    },
    {
     "data": {
      "image/png": "[encoded data removed]",
      "text/plain": [
       "<matplotlib.figure.Figure at 0x138efc11710>"
      ]
     },
     "metadata": {},
     "output_type": "display_data"
    }
   ],
   "source": [
    "fig, ax = plt.subplots()\n",
    "# plot histogram\n",
    "ax.hist(base['Composite Leading Indicator'])\n",
    "# set title and labels\n",
    "ax.set_title('Composite Leading Indicator')\n",
    "ax.set_xlabel('Points')\n",
    "ax.set_ylabel('Frequency')"
   ]
  },
  {
   "cell_type": "code",
   "execution_count": null,
   "metadata": {
    "collapsed": false,
    "deletable": true,
    "editable": true
   },
   "outputs": [],
   "source": [
    "\n"
   ]
  }
 ],
 "metadata": {
  "kernelspec": {
   "display_name": "Python 3",
   "language": "python",
   "name": "python3"
  },
  "language_info": {
   "codemirror_mode": {
    "name": "ipython",
    "version": 3
   },
   "file_extension": ".py",
   "mimetype": "text/x-python",
   "name": "python",
   "nbconvert_exporter": "python",
   "pygments_lexer": "ipython3",
   "version": "3.5.2"
  }
 },
 "nbformat": 4,
 "nbformat_minor": 2
}
